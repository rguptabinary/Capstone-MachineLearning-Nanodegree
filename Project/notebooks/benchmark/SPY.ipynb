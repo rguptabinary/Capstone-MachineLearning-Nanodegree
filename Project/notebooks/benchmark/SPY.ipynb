{
 "cells": [
  {
   "cell_type": "markdown",
   "metadata": {},
   "source": [
    "*@rtbins*\n",
    "\n",
    "# Benchmark model for SPY"
   ]
  },
  {
   "cell_type": "code",
   "execution_count": 1,
   "metadata": {},
   "outputs": [],
   "source": [
    "import sys\n",
    "sys.path.insert(0, \"../..\")\n",
    "\n",
    "import os\n",
    "import warnings\n",
    "warnings.filterwarnings(\"ignore\")\n",
    "\n",
    "from deepstocks.notebook import psource"
   ]
  },
  {
   "cell_type": "code",
   "execution_count": 133,
   "metadata": {},
   "outputs": [],
   "source": [
    "import pandas as pd\n",
    "from sklearn.svm import SVR\n",
    "import matplotlib.pyplot as plt\n",
    "import datetime\n",
    "import numpy as np\n",
    "\n",
    "start_date = datetime.datetime(2010, 1, 1)\n",
    "end_date = datetime.datetime(2015, 1, 1)"
   ]
  },
  {
   "cell_type": "code",
   "execution_count": 135,
   "metadata": {},
   "outputs": [],
   "source": [
    "def get_data(symbol):\n",
    "    dates = pd.date_range(start_date, end_date)\n",
    "    df = pd.DataFrame(index=dates)\n",
    "    df_temp = pd.read_csv('../../data/'+symbol+'.csv',\n",
    "                          index_col='Date',\n",
    "                          parse_dates=True,\n",
    "                          usecols=['Date', 'Adj Close'],\n",
    "                          na_values=['nan'])\n",
    "    df = df.join(df_temp, how='inner')\n",
    "    df = df.dropna(subset=[\"Adj Close\"])\n",
    "    dates = df.index.day.tolist()\n",
    "    prices = df['Adj Close'].values\n",
    "    return dates, prices"
   ]
  },
  {
   "cell_type": "code",
   "execution_count": 137,
   "metadata": {},
   "outputs": [],
   "source": [
    "def predict_price(dates, prices, x):\n",
    "    dates = np.reshape(dates, (len(dates),1)) # converting to matrix of n X 1\n",
    "    \n",
    "    svr_lin = SVR(kernel= 'linear', C= 1e3)\n",
    "    svr_poly = SVR(kernel= 'poly', C= 1e3, degree= 2)\n",
    "    # fitting the data points in the models\n",
    "    svr_lin.fit(dates, prices)\n",
    "    svr_poly.fit(dates, prices)\n",
    "\n",
    "    plt.scatter(dates, prices, color= 'black', label= 'Data') # plotting the initial datapoints \n",
    "    plt.plot(dates,svr_lin.predict(dates), color= 'green', label= 'Linear model') # plotting the line made by linear kernel\n",
    "    plt.plot(dates,svr_poly.predict(dates), color= 'blue', label= 'Polynomial model') # plotting the line made by polynomial kernel\n",
    "    plt.xlabel('Date')\n",
    "    plt.ylabel('Price')\n",
    "    plt.title('Support Vector Regression')\n",
    "    plt.legend()\n",
    "    plt.show()\n",
    "\n",
    "    return svr_lin.predict(x)[0], svr_poly.predict(x)[0]"
   ]
  },
  {
   "cell_type": "code",
   "execution_count": 138,
   "metadata": {},
   "outputs": [],
   "source": [
    "dates, prices = get_data('AMZN')"
   ]
  },
  {
   "cell_type": "code",
   "execution_count": 139,
   "metadata": {},
   "outputs": [
    {
     "name": "stdout",
     "output_type": "stream",
     "text": [
      "Dates-  [4, 5, 6, 7, 8, 11, 12, 13, 14, 15]\n",
      "Prices-  [133.899994 134.690002 132.25     130.       133.520004 130.309998\n",
      " 127.349998 129.110001 127.349998 127.139999]\n"
     ]
    }
   ],
   "source": [
    "print(\"Dates- \", dates[0:10])\n",
    "print(\"Prices- \", prices[0:10])"
   ]
  },
  {
   "cell_type": "code",
   "execution_count": null,
   "metadata": {},
   "outputs": [],
   "source": [
    "predicted_price = predict_price(dates, prices, 29)  "
   ]
  },
  {
   "cell_type": "code",
   "execution_count": null,
   "metadata": {},
   "outputs": [],
   "source": []
  }
 ],
 "metadata": {
  "kernelspec": {
   "display_name": "Python 3",
   "language": "python",
   "name": "python3"
  },
  "language_info": {
   "codemirror_mode": {
    "name": "ipython",
    "version": 3
   },
   "file_extension": ".py",
   "mimetype": "text/x-python",
   "name": "python",
   "nbconvert_exporter": "python",
   "pygments_lexer": "ipython3",
   "version": "3.5.5"
  }
 },
 "nbformat": 4,
 "nbformat_minor": 2
}
